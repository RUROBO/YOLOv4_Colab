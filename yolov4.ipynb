{
  "nbformat": 4,
  "nbformat_minor": 0,
  "metadata": {
    "colab": {
      "name": "yolov4.ipynb",
      "private_outputs": true,
      "provenance": [],
      "collapsed_sections": [],
      "machine_shape": "hm",
      "authorship_tag": "ABX9TyOg4FdNl0qNjAjbzgfsjiVr",
      "include_colab_link": true
    },
    "kernelspec": {
      "name": "python3",
      "display_name": "Python 3"
    },
    "language_info": {
      "name": "python"
    },
    "accelerator": "GPU"
  },
  "cells": [
    {
      "cell_type": "markdown",
      "metadata": {
        "id": "view-in-github",
        "colab_type": "text"
      },
      "source": [
        "<a href=\"https://colab.research.google.com/github/RUROBO/YOLOv4_Colab/blob/main/yolov4.ipynb\" target=\"_parent\"><img src=\"https://colab.research.google.com/assets/colab-badge.svg\" alt=\"Open In Colab\"/></a>"
      ]
    },
    {
      "cell_type": "markdown",
      "metadata": {
        "id": "QjaVB8fTk4yW"
      },
      "source": [
        "#YOLOv4-Cloud-Colab-教程"
      ]
    },
    {
      "cell_type": "markdown",
      "metadata": {
        "id": "qBSQffrEp10X"
      },
      "source": [
        "###点击装载Google云端硬盘，或者直接在左边的命令行输入指令进行装载，指令如下：\n",
        "\n",
        "\n",
        "\n",
        "*   将.ipynb文件装载谷歌云盘，方便Googel云盘和Colab分配的云GPU进行文件相互传输块\n",
        "\n",
        "\n"
      ]
    },
    {
      "cell_type": "code",
      "metadata": {
        "id": "G0QUB54dsQcc"
      },
      "source": [
        "from google.colab import drive\n",
        "drive.mount('/content/drive')"
      ],
      "execution_count": null,
      "outputs": []
    },
    {
      "cell_type": "markdown",
      "metadata": {
        "id": "uCkJcFBisKj4"
      },
      "source": [
        "#1.git clone darknet【克隆github上面的darknet】"
      ]
    },
    {
      "cell_type": "code",
      "metadata": {
        "id": "Ck82bvjAsRXd"
      },
      "source": [
        "!git clone https://github.com/AlexeyAB/darknet"
      ],
      "execution_count": null,
      "outputs": []
    },
    {
      "cell_type": "markdown",
      "metadata": {
        "id": "xDN6Qqp3kctL"
      },
      "source": [
        "#### 修改makefile 将OpenCV和GPU设置为可用"
      ]
    },
    {
      "cell_type": "code",
      "metadata": {
        "id": "hyC2Z_IVsbSM"
      },
      "source": [
        "%cd darknet\n",
        "!sed -i 's/OPENCV=0/OPENCV=1/' Makefile\n",
        "!sed -i 's/GPU=0/GPU=1/' Makefile\n",
        "!sed -i 's/CUDNN=0/CUDNN=1/' Makefile"
      ],
      "execution_count": null,
      "outputs": []
    },
    {
      "cell_type": "code",
      "metadata": {
        "id": "Ka41vuFEsnGl"
      },
      "source": [
        "#验证CUDA版本\n",
        "!/usr/local/cuda/bin/nvcc --version"
      ],
      "execution_count": null,
      "outputs": []
    },
    {
      "cell_type": "markdown",
      "metadata": {
        "id": "KXaqCCxkssnu"
      },
      "source": [
        "#2.编译项目"
      ]
    },
    {
      "cell_type": "code",
      "metadata": {
        "id": "JLwnYFX_s5t6"
      },
      "source": [
        "!make"
      ],
      "execution_count": null,
      "outputs": []
    },
    {
      "cell_type": "code",
      "metadata": {
        "id": "YMTONPi1tY26"
      },
      "source": [
        "from google.colab import drive\n",
        "drive.mount('/content/gdrive')"
      ],
      "execution_count": null,
      "outputs": []
    },
    {
      "cell_type": "code",
      "metadata": {
        "id": "-9AIMdmhtnWD"
      },
      "source": [
        "#将谷歌云盘路径简写为mydrive\n",
        "!ln -s /content/gdrive/My\\ Drive/ /mydrive\n",
        "!ls /mydrive"
      ],
      "execution_count": null,
      "outputs": []
    },
    {
      "cell_type": "code",
      "metadata": {
        "id": "awgK3QZ4t6gl"
      },
      "source": [
        "!ls /mydrive/yolov4"
      ],
      "execution_count": null,
      "outputs": []
    },
    {
      "cell_type": "code",
      "metadata": {
        "id": "SrDEK25AyzHv"
      },
      "source": [
        "#将谷歌云盘中的yolov4上传到darknet目录下\n",
        "!cp /mydrive/yolov4/yolov4-tiny.weights ./"
      ],
      "execution_count": null,
      "outputs": []
    },
    {
      "cell_type": "code",
      "metadata": {
        "id": "kr3seO-Zy7vq"
      },
      "source": [
        "#定义imshow 调用opencv显示图片\n",
        "def imShow(path):\n",
        "  import cv2\n",
        "  import matplotlib.pyplot as plt\n",
        "  %matplotlib inline\n",
        "\n",
        "  image = cv2.imread(path)\n",
        "  height, width = image.shape[:2]\n",
        "  resized_image = cv2.resize(image,(3*width, 3*height), interpolation = cv2.INTER_CUBIC)\n",
        "\n",
        "  fig = plt.gcf()\n",
        "  fig.set_size_inches(18, 10)\n",
        "  plt.axis(\"off\")\n",
        "  plt.imshow(cv2.cvtColor(resized_image, cv2.COLOR_BGR2RGB))\n",
        "  plt.show()"
      ],
      "execution_count": null,
      "outputs": []
    },
    {
      "cell_type": "code",
      "metadata": {
        "id": "A8S_eNW2y_0H"
      },
      "source": [
        "!./darknet detector test cfg/coco.data cfg/yolov4-tiny.cfg yolov4-tiny.weights  data/dog.jpg"
      ],
      "execution_count": null,
      "outputs": []
    },
    {
      "cell_type": "code",
      "metadata": {
        "id": "BOkDVZR6zFN4"
      },
      "source": [
        "imShow('predictions.jpg')"
      ],
      "execution_count": null,
      "outputs": []
    },
    {
      "cell_type": "code",
      "metadata": {
        "id": "M4-pZOen5ioX"
      },
      "source": [
        "#确保当前路径在darknet下\n",
        "!ls\n",
        "#将数据集图片及标注的txt文件的压缩包上传到服务器\n",
        "!cp /mydrive/yolov4/obj.zip ../\n",
        "#解压到data文件下\n",
        "!unzip ../obj.zip -d data/"
      ],
      "execution_count": null,
      "outputs": []
    },
    {
      "cell_type": "code",
      "metadata": {
        "id": "y467f_NY6WXu"
      },
      "source": [
        "#从谷歌云盘上传根据自己数据集修改的.cfg文件\n",
        "!cp /mydrive/yolov4/yolov4_custom.cfg ./cfg"
      ],
      "execution_count": null,
      "outputs": []
    },
    {
      "cell_type": "code",
      "metadata": {
        "id": "NI9wrnIXDVK-"
      },
      "source": [
        "!cp /mydrive/yolov4/yolov4.conv.137 ./"
      ],
      "execution_count": null,
      "outputs": []
    },
    {
      "cell_type": "code",
      "metadata": {
        "id": "bboV-t8o6gBk"
      },
      "source": [
        "#从谷歌云盘上传自己数据集的obj.data obj.names\n",
        "!cp /mydrive/yolov4/obj.names ./data\n",
        "!cp /mydrive/yolov4/obj.data  ./data"
      ],
      "execution_count": null,
      "outputs": []
    },
    {
      "cell_type": "code",
      "metadata": {
        "id": "m4P37Hya6neI"
      },
      "source": [
        "#上传generate_train.py 以在服务器的data下生成train.txt\n",
        "!cp /mydrive/yolov4/generate_train.py ./\n",
        "!cp /mydrive/yolov4/generate_test.py ./"
      ],
      "execution_count": null,
      "outputs": []
    },
    {
      "cell_type": "code",
      "metadata": {
        "id": "TjGihloF7TOU"
      },
      "source": [
        "!python generate_train.py\n",
        "!python generate_test.py"
      ],
      "execution_count": null,
      "outputs": []
    },
    {
      "cell_type": "markdown",
      "metadata": {
        "id": "xd4eFjpFGw4G"
      },
      "source": [
        "##防止运行终止\n",
        "To avoid this hold (CTRL + SHIFT + i) at the same time to open up the inspector view on your browser.\n",
        "```\n",
        "function ClickConnect(){\n",
        "console.log(\"Working\"); \n",
        "document\n",
        "  .querySelector('#top-toolbar > colab-connect-button')\n",
        "  .shadowRoot.querySelector('#connect')\n",
        "  .click() \n",
        "}\n",
        "setInterval(ClickConnect,60000)\n",
        "```\n",
        "\n"
      ]
    },
    {
      "cell_type": "markdown",
      "metadata": {
        "id": "GH9dlOag7xki"
      },
      "source": [
        "#开始训练"
      ]
    },
    {
      "cell_type": "code",
      "metadata": {
        "id": "bh-fn93c72SI"
      },
      "source": [
        "!./darknet detector train data/obj.data cfg/yolov4_custom.cfg yolov4.conv.137 -dont_show -map"
      ],
      "execution_count": null,
      "outputs": []
    },
    {
      "cell_type": "markdown",
      "metadata": {
        "id": "QGxl1pGzxoUY"
      },
      "source": [
        "##实际在训练中加-map可能导致出错，可以选择训练不加-map，训练结束后再采用如下指令计算权重文件map："
      ]
    },
    {
      "cell_type": "code",
      "metadata": {
        "id": "-4FxzDPd_sOn"
      },
      "source": [
        "#不加-iou_thresh 默认计算map@50，即iou=0.5\n",
        "!./darknet detector map data/obj.data cfg/yolov4_custom.cfg /mydrive/yolov4/backup/yolov4_custom_final.weights\n",
        "#map@75\n",
        "!./darknet detector map data/obj.data cfg/yolov4_custom.cfg /mydrive/yolov4/backup/yolov4_custom_final.weights -iou_thresh 0.75"
      ],
      "execution_count": null,
      "outputs": []
    },
    {
      "cell_type": "code",
      "metadata": {
        "id": "TkY0UV80Jm4O"
      },
      "source": [
        "!./darknet detector train data/obj.data cfg/yolov4_custom.cfg darknet53.conv.74 -dont_show"
      ],
      "execution_count": null,
      "outputs": []
    },
    {
      "cell_type": "markdown",
      "metadata": {
        "id": "ihl0O_p5B0qf"
      },
      "source": [
        "#终端的命令"
      ]
    },
    {
      "cell_type": "code",
      "metadata": {
        "id": "SBvlEKYvCRbp"
      },
      "source": [
        "!cp /mydrive/yolov4/backup/yolov4_custom_last.weights ./backup"
      ],
      "execution_count": null,
      "outputs": []
    },
    {
      "cell_type": "code",
      "metadata": {
        "id": "pQo5t9S4BzKD"
      },
      "source": [
        "!./darknet detector train data/obj.data cfg/yolov4_custom.cfg backup/yolov4_custom_last.weights  -dont_show"
      ],
      "execution_count": null,
      "outputs": []
    },
    {
      "cell_type": "code",
      "metadata": {
        "id": "JmRwX7qo95MQ"
      },
      "source": [
        "!cp /mydrive/yolov4/test.jpg  ./data/obj/"
      ],
      "execution_count": null,
      "outputs": []
    },
    {
      "cell_type": "code",
      "metadata": {
        "id": "d2UEyrFZ9Qjj"
      },
      "source": [
        "#图片测试\n",
        "!./darknet detector test data/obj.data cfg/yolov4_custom.cfg /mydrive/yolov4/backup/yolov4_custom_final.weights ./data/obj/0001010_jpg.rf.43520f29eab30a3282b878792b8f8ae0.jpg -thresh 0.5\n",
        "imShow('predictions.jpg')"
      ],
      "execution_count": null,
      "outputs": []
    },
    {
      "cell_type": "markdown",
      "metadata": {
        "id": "HcTrFZiAVSsd"
      },
      "source": [
        "#视频检测"
      ]
    },
    {
      "cell_type": "code",
      "metadata": {
        "id": "-1uGslYXKRkO"
      },
      "source": [
        "#视频测试\n",
        "!./darknet detector demo data/obj.data cfg/yolov4_custom.cfg /mydrive/yolov4/backup/yolov4_custom_final.weights -dont_show /mydrive/videos/test.mp4 -i 0 -out_filename /mydrive/videos/菠萝.avi"
      ],
      "execution_count": null,
      "outputs": []
    },
    {
      "cell_type": "code",
      "metadata": {
        "id": "gjqRQLznVuIe"
      },
      "source": [
        "import numpy as np\n",
        "import time\n",
        "import cv2\n",
        "import os\n",
        " \n",
        "labelsPath = \"data/obj.data/obj.names\"\n",
        "LABELS = pineapple\n",
        "with open(labelsPath, 'rt') as f:\n",
        "    LABELS = f.read().rstrip('n').split(\"n\")\n",
        "np.random.seed(42)\n",
        "COLORS = np.random.randint(0, 255, size=(len(LABELS), 3),\n",
        "                           dtype=\"uint8\")\n",
        "weightsPath = \"/mydrive/yolov4/backup/yolov4_custom_final.weights\"\n",
        "configPath = \"cfg/yolov4_custom.cfg\" \n",
        "net = cv2.dnn.readNetFromDarknet(configPath, weightsPath)\n",
        "ln = net.getLayerNames()\n",
        "ln = [ln[i[0] - 1] for i in net.getUnconnectedOutLayers()]"
      ],
      "execution_count": null,
      "outputs": []
    }
  ]
}